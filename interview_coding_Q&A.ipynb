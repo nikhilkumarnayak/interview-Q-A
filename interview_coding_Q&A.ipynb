{
 "cells": [
  {
   "cell_type": "markdown",
   "id": "aee44f3c",
   "metadata": {},
   "source": [
    "# Interview Coding"
   ]
  },
  {
   "cell_type": "markdown",
   "id": "135a1d4f",
   "metadata": {},
   "source": [
    "### Question : 1\n",
    "- split the '<' and 'List>' from list of elements\n",
    "\n",
    "- result: ['apply','item']"
   ]
  },
  {
   "cell_type": "code",
   "execution_count": 2,
   "id": "7a1d926f",
   "metadata": {},
   "outputs": [],
   "source": [
    "import pandas as pd\n",
    "\n",
    "list_1=['<applyList>','<itemList>']"
   ]
  },
  {
   "cell_type": "code",
   "execution_count": 3,
   "id": "56298331",
   "metadata": {},
   "outputs": [],
   "source": [
    "list2 = []\n",
    "def trim_list(list_1):\n",
    "    for i in list_1:\n",
    "        j = str(i.rstrip('List>')).lstrip('<')\n",
    "        list2.append(str(j))\n",
    "    print(list2)\n",
    "        \n"
   ]
  },
  {
   "cell_type": "code",
   "execution_count": 4,
   "id": "e2b98349",
   "metadata": {},
   "outputs": [
    {
     "name": "stdout",
     "output_type": "stream",
     "text": [
      "['apply', 'item']\n"
     ]
    }
   ],
   "source": [
    "trim_list(list_1)"
   ]
  },
  {
   "cell_type": "markdown",
   "id": "b1c55452",
   "metadata": {},
   "source": [
    "### Question : 2\n",
    "- Find the combination of 13 from list"
   ]
  },
  {
   "cell_type": "code",
   "execution_count": 5,
   "id": "0c86b6ec",
   "metadata": {},
   "outputs": [
    {
     "name": "stdout",
     "output_type": "stream",
     "text": [
      "sum cobination :- 5,8\n",
      "sum cobination :- 7,6\n"
     ]
    }
   ],
   "source": [
    "a = [5,7,8,3,1,6]\n",
    "b = 13\n",
    "\n",
    "for i in range(len(a)-1):\n",
    "    for j in range(i,len(a)):\n",
    "        if a[i] + a[j] == b:\n",
    "           print(\"sum cobination :- {0},{1}\".format(a[i],a[j]))\n",
    "     #  else:\n",
    "     #    print()\n",
    "\n"
   ]
  },
  {
   "cell_type": "markdown",
   "id": "d47ccffa",
   "metadata": {},
   "source": [
    "### Question : 3\n",
    "Create 2 List by user input and get the odd numbers from List1 and even numbers from List2, then merge the two list to get the output."
   ]
  },
  {
   "cell_type": "code",
   "execution_count": 6,
   "id": "60083cff",
   "metadata": {},
   "outputs": [],
   "source": [
    "\n",
    "list1 = [] # odd\n",
    "list2 = [] # even\n",
    "list3 = []\n",
    "\n",
    "count_no = int(input(\"Enter the count_no :- \"))\n",
    "\n",
    "for i in range(count_no):\n",
    "    input1 =  int(input(\"Enter the number for 1st List:- \"))\n",
    "    list1.append(input1)\n",
    "print(\"list1 :- \",list1)\n",
    "\n",
    "for j in range(count_no):\n",
    "    input1 =  int(input(\"Enter the number for 2nd List:- \"))\n",
    "    list2.append(input1)\n",
    "print(\"list2 :- \",list2)\n",
    "\n",
    "def demo(list1,list2):\n",
    "    for i in list1:\n",
    "        if i%2 != 0:\n",
    "            list3.append(i)\n",
    "    for j in list2:\n",
    "        if j%2 == 0 :\n",
    "            list3.append(j)\n",
    "    return list3\n",
    "\n",
    "output = demo(list1,list2)\n",
    "print(output)"
   ]
  },
  {
   "cell_type": "markdown",
   "id": "cc8131aa",
   "metadata": {},
   "source": [
    "    Enter the count_no :- 5\n",
    "    Enter the number for 1st List:- 8\n",
    "    Enter the number for 1st List:- 7\n",
    "    Enter the number for 1st List:- 3\n",
    "    Enter the number for 1st List:- 87\n",
    "    Enter the number for 1st List:- 4\n",
    "    list1 :-  [8, 7, 3, 87, 4]\n",
    "    Enter the number for 2nd List:- 10\n",
    "    Enter the number for 2nd List:- 67\n",
    "    Enter the number for 2nd List:- 88\n",
    "    Enter the number for 2nd List:- 75\n",
    "    Enter the number for 2nd List:- 4\n",
    "    list2 :-  [10, 67, 88, 75, 4]\n",
    "    [7, 3, 87, 10, 88, 4]"
   ]
  },
  {
   "cell_type": "markdown",
   "id": "f53ed49a",
   "metadata": {},
   "source": [
    "### Question : 4\n",
    " - list1 = ['a','b','c','d','e']\n",
    " - list2 = [0,1,0,2,1]\n",
    "\n",
    "- **Output Required**  ['a','c','b','e','d']"
   ]
  },
  {
   "cell_type": "code",
   "execution_count": 5,
   "id": "83eb16fb",
   "metadata": {},
   "outputs": [],
   "source": [
    "list1 = ['a','b','c','d','e']\n",
    "list2 = [0,1,0,2,1]"
   ]
  },
  {
   "cell_type": "code",
   "execution_count": 6,
   "id": "d5545a00",
   "metadata": {},
   "outputs": [
    {
     "name": "stdout",
     "output_type": "stream",
     "text": [
      "['a', 'c', 'b', 'e', 'd']\n"
     ]
    }
   ],
   "source": [
    "## Method-1\n",
    "## Use the zip() and sorted() Functions to Sort the List Based on Another List in Python.\n",
    "\n",
    "result_list = [i for _,i in sorted(zip(list2,list1))]\n",
    "print(result_list)"
   ]
  },
  {
   "cell_type": "code",
   "execution_count": 7,
   "id": "5f1c08b7",
   "metadata": {},
   "outputs": [
    {
     "name": "stdout",
     "output_type": "stream",
     "text": [
      "['a', 'c', 'b', 'e', 'd']\n"
     ]
    }
   ],
   "source": [
    "## Method-2 \n",
    "## Use the dic and sorted() Functions to Sort the List Based on Another List in Python.\n",
    "dic = {list1[i]: list2[i] for i in range(len(list1))}\n",
    "sort_dic = {k: v for k, v in sorted(dic.items(), key=lambda item: item[1])}\n",
    "print(list(sort_dic.keys()))"
   ]
  },
  {
   "cell_type": "code",
   "execution_count": 8,
   "id": "ff86922e",
   "metadata": {},
   "outputs": [
    {
     "name": "stdout",
     "output_type": "stream",
     "text": [
      "['a' 'b' 'a' 'c' 'b']\n"
     ]
    }
   ],
   "source": [
    "## Method-3\n",
    "## Use the NumPy Module to Sort the List Based on Another List in Python.\n",
    "\n",
    "import numpy\n",
    "A = numpy.array(list1)\n",
    "B = numpy.array(list2)\n",
    "inds = B.argsort()\n",
    "sorted_a = A[B]\n",
    "print(sorted_a)"
   ]
  },
  {
   "cell_type": "code",
   "execution_count": null,
   "id": "27a6b627",
   "metadata": {},
   "outputs": [
    {
     "name": "stdout",
     "output_type": "stream",
     "text": [
      "['a', 'c', 'b', 'e', 'd']\n"
     ]
    }
   ],
   "source": [
    "## Method-4\n",
    "## Use the more_itertools.sort_together to Sort the List Based on Another List in Python.\n",
    "\n",
    "# %pip install more_itertools\n",
    "from more_itertools import sort_together\n",
    "s = sort_together([list2, list1])[1]\n",
    "print(list(s))"
   ]
  },
  {
   "cell_type": "markdown",
   "id": "508554c0",
   "metadata": {},
   "source": [
    "## Question : 5\n",
    "Given two strings ransomNote and magazine, return true if ransomNote can be constructed by using the letters from magazine and false otherwise.\n",
    "Each letter in magazine can only be used once in ransomNote.\n"
   ]
  },
  {
   "cell_type": "code",
   "execution_count": 1,
   "id": "96785ce1",
   "metadata": {},
   "outputs": [],
   "source": [
    "def contRand(self,ransomNote: str,magazine : str) -> bool:\n",
    "  res = False\n",
    "  for i in ransomNote:\n",
    "    val_ransnote = ransomNote.count(i)\n",
    "    val_magazine = magazine.count(i)\n",
    "\n",
    "    if 1 <= val_ransnote <= val_magazine:\n",
    "      res = True\n",
    "    else:\n",
    "      res =  False\n",
    "      break\n",
    "  return res"
   ]
  },
  {
   "cell_type": "code",
   "execution_count": 2,
   "id": "4b8cbc94",
   "metadata": {},
   "outputs": [
    {
     "data": {
      "text/plain": [
       "True"
      ]
     },
     "execution_count": 2,
     "metadata": {},
     "output_type": "execute_result"
    }
   ],
   "source": [
    "contRand('','bc','abc')"
   ]
  },
  {
   "cell_type": "code",
   "execution_count": 3,
   "id": "b071a7cc",
   "metadata": {},
   "outputs": [
    {
     "data": {
      "text/plain": [
       "True"
      ]
     },
     "execution_count": 3,
     "metadata": {},
     "output_type": "execute_result"
    }
   ],
   "source": [
    "contRand('','bc','abc')"
   ]
  },
  {
   "cell_type": "code",
   "execution_count": 4,
   "id": "489f6be0",
   "metadata": {},
   "outputs": [
    {
     "data": {
      "text/plain": [
       "True"
      ]
     },
     "execution_count": 4,
     "metadata": {},
     "output_type": "execute_result"
    }
   ],
   "source": [
    "contRand('','bc','abc')"
   ]
  },
  {
   "cell_type": "markdown",
   "id": "d1958423",
   "metadata": {},
   "source": [
    "## Question :- 6\n",
    "Remove the Numeric value from the String Expect the 'Part-01' Sections?\n",
    "\"\"\"I have seen about 100 movies in the past 4 months. I bought 3 collections of movie bundles. one of the bundles have\n",
    "Harry Potter - Part-01\n",
    "Harry Potter - Part-02\n",
    "Harry Potter - Part-03\n",
    "\"\"\""
   ]
  },
  {
   "cell_type": "code",
   "execution_count": 9,
   "id": "29cfd04c",
   "metadata": {},
   "outputs": [],
   "source": [
    "st1=\"\"\"I have seen about 100 movies in the past 4 months. I bought 3 collections of movie bundles. one of the bundles have\n",
    "Harry Potter - Part-01\n",
    "Harry Potter - Part-02\n",
    "Harry Potter - Part-03\n",
    "\"\"\""
   ]
  },
  {
   "cell_type": "code",
   "execution_count": 10,
   "id": "befb1908",
   "metadata": {},
   "outputs": [
    {
     "data": {
      "text/plain": [
       "'I have seen about  movies in the past  months. I bought  collections of movie bundles. one of the bundles have\\nHarry Potter - Part-\\nHarry Potter - Part-\\nHarry Potter - Part-\\n'"
      ]
     },
     "execution_count": 10,
     "metadata": {},
     "output_type": "execute_result"
    }
   ],
   "source": [
    "new_str = ''.join([i for i in st1 if not i.isdigit()])\n",
    "new_str"
   ]
  },
  {
   "cell_type": "code",
   "execution_count": 11,
   "id": "24eaae54",
   "metadata": {},
   "outputs": [
    {
     "data": {
      "text/plain": [
       "' I have seen about  movies in the past  months. I bought  collections of movie bundles. one of the bundles have\\nHarry Potter - Part-\\nHarry Potter - Part-\\nHarry Potter - Part-\\n'"
      ]
     },
     "execution_count": 11,
     "metadata": {},
     "output_type": "execute_result"
    }
   ],
   "source": [
    "d_str = ' '\n",
    "for char in st1:\n",
    "  if not char.isdigit():\n",
    "    d_str = d_str+char\n",
    "d_str"
   ]
  },
  {
   "cell_type": "code",
   "execution_count": 12,
   "id": "2738a3c0",
   "metadata": {},
   "outputs": [
    {
     "data": {
      "text/plain": [
       "'100 movies in the past 4 months. I bought 3 collections of movie bundles. one of the bundles have\\nHarry Potter - Part-01\\nHarry Potter - Part-02\\nHarry Potter - Part-03\\n'"
      ]
     },
     "execution_count": 12,
     "metadata": {},
     "output_type": "execute_result"
    }
   ],
   "source": [
    "from itertools import dropwhile\n",
    "''.join(dropwhile(lambda x: not x.isdigit(), st1))"
   ]
  },
  {
   "cell_type": "code",
   "execution_count": 13,
   "id": "b5bdd265",
   "metadata": {},
   "outputs": [
    {
     "data": {
      "text/plain": [
       "'Part-03'"
      ]
     },
     "execution_count": 13,
     "metadata": {},
     "output_type": "execute_result"
    }
   ],
   "source": [
    "st1.split()[-1]"
   ]
  },
  {
   "cell_type": "markdown",
   "id": "67598f78",
   "metadata": {},
   "source": [
    "By RegEx"
   ]
  },
  {
   "cell_type": "code",
   "execution_count": 14,
   "id": "fb1392e8",
   "metadata": {},
   "outputs": [
    {
     "data": {
      "text/plain": [
       "'I have seen about movies in the past months. I bought collections of movie bundles. one of the bundles have\\nHarry Potter - Part-01\\nHarry Potter - Part-02\\nHarry Potter - Part-03\\n'"
      ]
     },
     "execution_count": 14,
     "metadata": {},
     "output_type": "execute_result"
    }
   ],
   "source": [
    "import re\n",
    "new_str = re.sub(\"^\\d+\\s|\\s\\d+\\s|\\s\\d\\w\\d|\\s\\d+$\", \" \", st1)\n",
    "new_str"
   ]
  },
  {
   "cell_type": "code",
   "execution_count": 15,
   "id": "9d18bb9a",
   "metadata": {},
   "outputs": [
    {
     "data": {
      "text/plain": [
       "'I have seen about  movies in the past  months. I bought  collections of movie bundles. one of the bundles have\\nHarry Potter - Part-\\nHarry Potter - Part-\\nHarry Potter - Part-\\n'"
      ]
     },
     "execution_count": 15,
     "metadata": {},
     "output_type": "execute_result"
    }
   ],
   "source": [
    "from string import digits\n",
    "remove_digits = str.maketrans('', '', digits)\n",
    "res = st1.translate(remove_digits)\n",
    "res"
   ]
  },
  {
   "cell_type": "code",
   "execution_count": 16,
   "id": "f219a8db",
   "metadata": {},
   "outputs": [
    {
     "name": "stdout",
     "output_type": "stream",
     "text": [
      "<map object at 0x00000163C09CBF70>\n"
     ]
    },
    {
     "data": {
      "text/plain": [
       "'I have seen about 100 movies in the past 4 months. I bought 3 collections of movie bundles. one of the bundles have\\nHarry Potter - Part-01\\nHarry Potter - Part-02\\nHarry Potter - Part-03\\n'"
      ]
     },
     "execution_count": 16,
     "metadata": {},
     "output_type": "execute_result"
    }
   ],
   "source": [
    "nums = map(int, range(9))\n",
    "print(nums)\n",
    "''.join(i  if i not in map(int, range(9)) else \"\" for i in st1)"
   ]
  },
  {
   "cell_type": "code",
   "execution_count": 17,
   "id": "a736296b",
   "metadata": {},
   "outputs": [
    {
     "name": "stdout",
     "output_type": "stream",
     "text": [
      "I have seen about  movies in the past  months. I bought  collections of movie bundles. one of the bundles have\n",
      "Harry Potter - Part-\n",
      "Harry Potter - Part-\n",
      "Harry Potter - Part-\n",
      "\n"
     ]
    }
   ],
   "source": [
    "new_str1=''.join(c if c not in map(str,range(9)) else \"\" for c in st1)\n",
    "print(new_str1)"
   ]
  },
  {
   "cell_type": "markdown",
   "id": "80120a4a",
   "metadata": {},
   "source": [
    "## Question : 7"
   ]
  },
  {
   "cell_type": "code",
   "execution_count": null,
   "id": "46947da7",
   "metadata": {},
   "outputs": [],
   "source": []
  }
 ],
 "metadata": {
  "kernelspec": {
   "display_name": "Python 3.10.5 64-bit",
   "language": "python",
   "name": "python3"
  },
  "language_info": {
   "codemirror_mode": {
    "name": "ipython",
    "version": 3
   },
   "file_extension": ".py",
   "mimetype": "text/x-python",
   "name": "python",
   "nbconvert_exporter": "python",
   "pygments_lexer": "ipython3",
   "version": "3.10.5"
  },
  "vscode": {
   "interpreter": {
    "hash": "49925a85a85dac8a2dca5afbebde9d93135fdd4b812dbf89ef8044a5eedbb9bf"
   }
  }
 },
 "nbformat": 4,
 "nbformat_minor": 5
}
