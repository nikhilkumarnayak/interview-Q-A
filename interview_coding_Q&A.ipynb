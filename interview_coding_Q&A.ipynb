{
 "cells": [
  {
   "cell_type": "markdown",
   "id": "aee44f3c",
   "metadata": {},
   "source": [
    "# Interview Coding"
   ]
  },
  {
   "cell_type": "markdown",
   "id": "135a1d4f",
   "metadata": {},
   "source": [
    "### Question : 1\n",
    "- split the '<' and 'List>' from list of elements\n",
    "\n",
    "- result: ['apply','item']"
   ]
  },
  {
   "cell_type": "code",
   "execution_count": null,
   "id": "7a1d926f",
   "metadata": {},
   "outputs": [],
   "source": [
    "import pandas as pd\n",
    "\n",
    "list_1=['<applyList>','<itemList>']"
   ]
  },
  {
   "cell_type": "code",
   "execution_count": null,
   "id": "56298331",
   "metadata": {},
   "outputs": [],
   "source": [
    "list2 = []\n",
    "def trim_list(list_1):\n",
    "    for i in list_1:\n",
    "        j = str(i.rstrip('List>')).lstrip('<')\n",
    "        list2.append(str(j))\n",
    "    print(list2)\n",
    "        \n"
   ]
  },
  {
   "cell_type": "code",
   "execution_count": null,
   "id": "e2b98349",
   "metadata": {},
   "outputs": [
    {
     "name": "stdout",
     "output_type": "stream",
     "text": [
      "['apply', 'item']\n"
     ]
    }
   ],
   "source": [
    "trim_list(list_1)"
   ]
  },
  {
   "cell_type": "markdown",
   "id": "b1c55452",
   "metadata": {},
   "source": [
    "### Question : 2\n",
    "- Find the combination of 13 from list"
   ]
  },
  {
   "cell_type": "code",
   "execution_count": null,
   "id": "0c86b6ec",
   "metadata": {},
   "outputs": [
    {
     "name": "stdout",
     "output_type": "stream",
     "text": [
      "sum cobination :- 5,8\n",
      "sum cobination :- 7,6\n"
     ]
    }
   ],
   "source": [
    "a = [5,7,8,3,1,6]\n",
    "b = 13\n",
    "\n",
    "for i in range(len(a)-1):\n",
    "    for j in range(i,len(a)):\n",
    "        if a[i] + a[j] == b:\n",
    "           print(\"sum cobination :- {0},{1}\".format(a[i],a[j]))\n",
    "     #  else:\n",
    "     #    print()\n",
    "\n"
   ]
  },
  {
   "cell_type": "markdown",
   "id": "d47ccffa",
   "metadata": {},
   "source": [
    "### Question : 3\n",
    "Create 2 List by user input and get the odd numbers from List1 and even numbers from List2, then merge the two list to get the output."
   ]
  },
  {
   "cell_type": "code",
   "execution_count": 1,
   "id": "60083cff",
   "metadata": {},
   "outputs": [],
   "source": [
    "\n",
    "list1 = [] # odd\n",
    "list2 = [] # even\n",
    "list3 = []\n",
    "\n",
    "count_no = int(input(\"Enter the count_no :- \"))\n",
    "\n",
    "for i in range(count_no):\n",
    "    input1 =  int(input(\"Enter the number for 1st List:- \"))\n",
    "    list1.append(input1)\n",
    "print(\"list1 :- \",list1)\n",
    "\n",
    "for j in range(count_no):\n",
    "    input1 =  int(input(\"Enter the number for 2nd List:- \"))\n",
    "    list2.append(input1)\n",
    "print(\"list2 :- \",list2)\n",
    "\n",
    "def demo(list1,list2):\n",
    "    for i in list1:\n",
    "        if i%2 != 0:\n",
    "            list3.append(i)\n",
    "    for j in list2:\n",
    "        if j%2 == 0 :\n",
    "            list3.append(j)\n",
    "    return list3\n",
    "\n",
    "output = demo(list1,list2)\n",
    "print(output)"
   ]
  },
  {
   "cell_type": "markdown",
   "id": "cc8131aa",
   "metadata": {},
   "source": [
    "    Enter the count_no :- 5\n",
    "    Enter the number for 1st List:- 8\n",
    "    Enter the number for 1st List:- 7\n",
    "    Enter the number for 1st List:- 3\n",
    "    Enter the number for 1st List:- 87\n",
    "    Enter the number for 1st List:- 4\n",
    "    list1 :-  [8, 7, 3, 87, 4]\n",
    "    Enter the number for 2nd List:- 10\n",
    "    Enter the number for 2nd List:- 67\n",
    "    Enter the number for 2nd List:- 88\n",
    "    Enter the number for 2nd List:- 75\n",
    "    Enter the number for 2nd List:- 4\n",
    "    list2 :-  [10, 67, 88, 75, 4]\n",
    "    [7, 3, 87, 10, 88, 4]"
   ]
  },
  {
   "cell_type": "code",
   "execution_count": null,
   "id": "83eb16fb",
   "metadata": {},
   "outputs": [],
   "source": []
  }
 ],
 "metadata": {
  "kernelspec": {
   "display_name": "Python 3.10.5 64-bit",
   "language": "python",
   "name": "python3"
  },
  "language_info": {
   "codemirror_mode": {
    "name": "ipython",
    "version": 3
   },
   "file_extension": ".py",
   "mimetype": "text/x-python",
   "name": "python",
   "nbconvert_exporter": "python",
   "pygments_lexer": "ipython3",
   "version": "3.10.5"
  },
  "vscode": {
   "interpreter": {
    "hash": "49925a85a85dac8a2dca5afbebde9d93135fdd4b812dbf89ef8044a5eedbb9bf"
   }
  }
 },
 "nbformat": 4,
 "nbformat_minor": 5
}
