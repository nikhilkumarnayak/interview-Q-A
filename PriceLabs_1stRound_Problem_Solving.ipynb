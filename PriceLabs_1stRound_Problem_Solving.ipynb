{
  "nbformat": 4,
  "nbformat_minor": 0,
  "metadata": {
    "colab": {
      "provenance": []
    },
    "kernelspec": {
      "name": "python3",
      "display_name": "Python 3"
    },
    "language_info": {
      "name": "python"
    }
  },
  "cells": [
    {
      "cell_type": "code",
      "execution_count": null,
      "metadata": {
        "id": "1N-Uf2q19_IV"
      },
      "outputs": [],
      "source": [
        "# Given Problem\n",
        "array = [1,4,2,-2,-9,10,2,12,2,-4,-4,-4,-4,2,6,7]\n",
        "peak = array[0]\n",
        "index = 0\n",
        "output = [] # array of tuples\n",
        "For x in 1..N-1\n",
        "if (array[x]*array[x-1] > 0)\n",
        "if peak < 0 and array[x] < peak\n",
        "peak = array[x]\n",
        "index = x\n",
        "if peak >= 0 and array[x] > peak\n",
        "peak = array[x]\n",
        "index = x\n",
        "\n",
        "else\n",
        "output.insert( (index, peak) )\n",
        "peak = array[x]\n",
        "index = x\n",
        "end if\n",
        "end for\n",
        "return output"
      ]
    },
    {
      "cell_type": "markdown",
      "source": [
        "Error: -\n",
        "1. The Range of the x value will be either 0 to N-1 or 1 to N not 1 to N-1, by this we will lose the information.\n",
        "2. The line \"else output.insert((index, peak))\" is not indented appropriately, which may cause misunderstanding. As it should be output.insert(index,peak) so by index the value will insert into the output list. otherwise, it will prompt an error while executing the line i.e \"insert expected 2 arguments, got 1\".\n",
        "3. The return statement will work in any function return not in for look normal program."
      ],
      "metadata": {
        "id": "0co1ocYQPXPx"
      }
    },
    {
      "cell_type": "code",
      "source": [
        "# Solution :- 1 (Normal For and if loop)\n",
        "array = [1,4,2,-2,-9,10,2,12,2,-4,-4,-4,-4,2,6,7]\n",
        "peak = array[0]\n",
        "index = 0\n",
        "output = []\n",
        "for x in range(1,len(array)):\n",
        "  if array[x]*array[x-1] > 0:\n",
        "    if peak < 0 and array[x] < peak:\n",
        "      peak = array[x]\n",
        "      index = x\n",
        "    if peak >= 0 and array[x] > peak:\n",
        "      peak = array[x]\n",
        "      index = x\n",
        "  else:\n",
        "    output.insert(index,peak)\n",
        "    peak = array[x]\n",
        "    index = x\n",
        "print(\"output is :- \",output)"
      ],
      "metadata": {
        "colab": {
          "base_uri": "https://localhost:8080/"
        },
        "id": "ES9SaNBE-N_P",
        "outputId": "84f9dbff-a422-4260-b180-bbd887ac1ba2"
      },
      "execution_count": 12,
      "outputs": [
        {
          "output_type": "stream",
          "name": "stdout",
          "text": [
            "output is :-  [4, -9, 12, -4]\n"
          ]
        }
      ]
    },
    {
      "cell_type": "code",
      "source": [
        "# Solution :- 2 ( By Python Function)\n",
        "array = [1, 4, 2, -2, -9, 10, 2, 12, 2, -4, -4, -4, -4, 2, 6, 7]\n",
        "def pseudo_code(array):\n",
        "  peak = array[0]\n",
        "  index = 0\n",
        "  output = [] \n",
        "  for x in range(1, len(array)):\n",
        "      if array[x] * array[x-1] > 0:\n",
        "          if peak < 0 and array[x] < peak:\n",
        "              peak = array[x]\n",
        "              index = x\n",
        "          if peak >= 0 and array[x] > peak:\n",
        "              peak = array[x]\n",
        "              index = x\n",
        "      else:\n",
        "          output.insert(index, peak)\n",
        "          peak = array[x]\n",
        "          index = x\n",
        "\n",
        "  return output\n",
        "\n",
        "pseudo_code(array)\n"
      ],
      "metadata": {
        "colab": {
          "base_uri": "https://localhost:8080/"
        },
        "id": "DnrqP2y--_Eo",
        "outputId": "c0069653-c19c-47df-ace0-9097baa6deaf"
      },
      "execution_count": 13,
      "outputs": [
        {
          "output_type": "execute_result",
          "data": {
            "text/plain": [
              "[4, -9, 12, -4]"
            ]
          },
          "metadata": {},
          "execution_count": 13
        }
      ]
    },
    {
      "cell_type": "markdown",
      "source": [
        "Solution Explanation: -\n",
        "\n",
        "The solution explanation is as follows:\n",
        "\n",
        "1. Set up variables:\n",
        "   - 'array': An integer array.\n",
        "   - 'peak': A variable used to keep track of the current peak value.\n",
        "   - 'index': A variable that stores the current peak value's index.\n",
        "   - 'output': An empty array that will have tuples of peak indices and values.\n",
        "2. Make the first element of the array the initial peak value ('peak = array[0]').\n",
        "3. Initialize the index to 0 ('index = 0').\n",
        "4. Begin iterating through the array at the second member ('x in range(1, len(array))').\n",
        "5. Determine whether the product of the present element ('array[x]') and its previous element ('array[x-1]') is larger than zero, indicating that they are both positive or both negative.\n",
        "6. If the current element and subsequent elements have the same sign:\n",
        "   - Determine whether the current peak ('peak') is negative and whether the current element ('array[x]') is less than the peak.\n",
        "   - If true, change the peak and index to reflect the current element and index ('peak = array[x]' and 'index = x').\n",
        "   - Determine whether or not the current peak is non-negative and whether or not the current element is greater than the peak.\n",
        "   - If true, update the peak and index to reflect the current element and index.\n",
        "7. If the current and preceding elements have opposite signs:\n",
        "   - In the output array, insert a tuple containing the index and peak value ('output.insert((index, peak))').\n",
        "   - Apply the current element's peak and index to the peak and index.\n",
        "8. Recurring steps 5-7 until all array elements have been handled.\n",
        "9. Return the output array of tuples containing peak indices and values.\n",
        "To summarize, the updated pseudo-code traverses an array and finds peaks by comparing each element to its neighboring element. In the output array, it stores the indices and values of these peaks.\n",
        "The output will be [4, -9, 12, -4]. If we update the array[] then the subsequent output will have come as a result."
      ],
      "metadata": {
        "id": "qRo0UebKPLva"
      }
    },
    {
      "cell_type": "code",
      "source": [],
      "metadata": {
        "id": "yNBgSo_DPNv4"
      },
      "execution_count": null,
      "outputs": []
    }
  ]
}